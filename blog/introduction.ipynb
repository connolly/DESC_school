{
 "metadata": {
  "name": "",
  "signature": "sha256:5e61dc2856f2878c949c9e1571ebb457b4683faf4a0b9365c32847a2c221a638"
 },
 "nbformat": 3,
 "nbformat_minor": 0,
 "worksheets": [
  {
   "cells": [
    {
     "cell_type": "markdown",
     "metadata": {},
     "source": [
      "Each post here (including this one) is an ipython notebook. To view a static version of the notebook (with the code and figures) simply click on *\"Read more...\"*. \n",
      "\n",
      "<!-- TEASER_END -->\n",
      "\n",
      "To download the notebook on your machine, click on *Source* (in the top right corner) and download the notebook to your harddrive. To run the notebook (assuming you have followed the [instructions](http://connolly.github.io/introAstroML/#instructions) simply type in the directory where you saved the notebook,\n",
      "\n",
      "    ipython notebook [notebook name.ipynb]\n",
      "and a page will come up in your browser with the notebook\n",
      "\n",
      "shift-return in each cell in the notebook will execute the code."
     ]
    },
    {
     "cell_type": "code",
     "collapsed": false,
     "input": [
      "print \"Hello astroML\""
     ],
     "language": "python",
     "metadata": {},
     "outputs": [
      {
       "output_type": "stream",
       "stream": "stdout",
       "text": [
        "Hello astroML\n"
       ]
      }
     ],
     "prompt_number": 1
    }
   ],
   "metadata": {}
  }
 ]
}