{
 "metadata": {
  "name": "",
  "signature": "sha256:c4101deab93bf0d50e6f35e8a16eee658263dffb36dc710c1d85c1e46703756f"
 },
 "nbformat": 3,
 "nbformat_minor": 0,
 "worksheets": [
  {
   "cells": [
    {
     "cell_type": "markdown",
     "metadata": {},
     "source": [
      "Each post here (including this one) is an ipython notebook. To view a static version of the notebook (with the code and figures) simply click on *\"Read more...\"*. \n",
      "\n",
      "<!-- TEASER_END -->\n",
      "\n",
      "To download the notebook on your machine, click on *Source* (in the top right corner) and download the notebook to your harddrive. To run the notebook (assuming you have followed the [instructions](http://connolly.github.io/introAstroML/#instructions) simply type in the directory where you saved the notebook, \n",
      "\n",
      "    ipython notebook [notebook name.ipynb]\n",
      "\n",
      "and a page will come up in your browser with the notebook\n",
      "\n",
      "shift-return in each cell in the notebook will execute the code."
     ]
    },
    {
     "cell_type": "code",
     "collapsed": false,
     "input": [
      "print \"Hello astroML\""
     ],
     "language": "python",
     "metadata": {},
     "outputs": [
      {
       "output_type": "stream",
       "stream": "stdout",
       "text": [
        "Hello astroML\n"
       ]
      }
     ],
     "prompt_number": 1
    }
   ],
   "metadata": {}
  }
 ]
}